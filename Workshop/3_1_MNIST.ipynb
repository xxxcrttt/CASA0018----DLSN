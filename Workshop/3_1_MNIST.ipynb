{
  "nbformat": 4,
  "nbformat_minor": 0,
  "metadata": {
    "colab": {
      "name": "3_1_MNIST.ipynb",
      "provenance": [],
      "authorship_tag": "ABX9TyPze3ZcWC5k7xDM4hWym1Q9",
      "include_colab_link": true
    },
    "kernelspec": {
      "name": "python3",
      "display_name": "Python 3"
    },
    "language_info": {
      "name": "python"
    }
  },
  "cells": [
    {
      "cell_type": "markdown",
      "metadata": {
        "id": "view-in-github",
        "colab_type": "text"
      },
      "source": [
        "<a href=\"https://colab.research.google.com/github/xxxcrttt/CASA0018----DLSN/blob/main/3_1_MNIST.ipynb\" target=\"_parent\"><img src=\"https://colab.research.google.com/assets/colab-badge.svg\" alt=\"Open In Colab\"/></a>"
      ]
    },
    {
      "cell_type": "markdown",
      "source": [
        "# Workshop 3-1. MNIST CNN\n",
        "\n",
        "Information on the [MNIST](http://yann.lecun.com/exdb/mnist/) character dataset. \n",
        "\n",
        "Use Convolutions to try and improve the accuracry of the model. \n",
        "\n",
        "## Importing dependencies \n",
        "\n",
        "[Tensorflow datasets](https://www.tensorflow.org/datasets/catalog/overview)\n"
      ],
      "metadata": {
        "id": "pvT3lRab3PYU"
      }
    },
    {
      "cell_type": "code",
      "execution_count": 20,
      "metadata": {
        "colab": {
          "base_uri": "https://localhost:8080/"
        },
        "id": "6cT2_kfH2laM",
        "outputId": "dd7f62ec-d57d-4f9e-afaa-e8165d6a489a"
      },
      "outputs": [
        {
          "output_type": "stream",
          "name": "stdout",
          "text": [
            "2.7.0\n"
          ]
        }
      ],
      "source": [
        "import tensorflow as tf\n",
        "print(tf.__version__)\n",
        "mnist = tf.keras.datasets.mnist"
      ]
    },
    {
      "cell_type": "markdown",
      "source": [
        "## Loading the image data \n",
        "\n",
        "it contains the training and testing values for the graphics that contain the clothing items and their labels. \n"
      ],
      "metadata": {
        "id": "mdpR8w0r4gc7"
      }
    },
    {
      "cell_type": "code",
      "source": [
        "(training_images, training_labels), (test_images, test_labels) = mnist.load_data()"
      ],
      "metadata": {
        "id": "U1t-5nlp41G9"
      },
      "execution_count": 21,
      "outputs": []
    },
    {
      "cell_type": "markdown",
      "source": [
        "## Exploring the data and preparing it for use. \n",
        "\n",
        "**matplotlib.pyplot**:  \n",
        "import a library to display an image and point it to a training image and a training label. \n",
        "\n",
        "Each of the 'pixel' values are between 0(black) and 255(white).  \n",
        "\n",
        "To **\"normalize\"** the data between 0 ~ 1, divide all by 255.0  "
      ],
      "metadata": {
        "id": "eBB24PvJ4_3I"
      }
    },
    {
      "cell_type": "code",
      "source": [
        "sample = 1;\n",
        "print(\"shape:\", training_images[sample].shape)\n",
        "\n",
        "import matplotlib.pyplot as plt\n",
        "plt.imshow(training_images[sample], cmap='gray')\n",
        "print(\"Label:\", training_labels[sample])"
      ],
      "metadata": {
        "colab": {
          "base_uri": "https://localhost:8080/",
          "height": 300
        },
        "id": "iySxppQ95277",
        "outputId": "6fbcf28a-6e8f-4524-929b-fd7e978b88b9"
      },
      "execution_count": 22,
      "outputs": [
        {
          "output_type": "stream",
          "name": "stdout",
          "text": [
            "shape: (28, 28)\n",
            "Label: 0\n"
          ]
        },
        {
          "output_type": "display_data",
          "data": {
            "image/png": "[encoded data removed]",
            "text/plain": [
              "<Figure size 432x288 with 1 Axes>"
            ]
          },
          "metadata": {
            "needs_background": "light"
          }
        }
      ]
    },
    {
      "cell_type": "markdown",
      "source": [
        "**First Change -- Input Shape**:\n",
        "* Previously each image was being passed into the input layer -- (28 x 28) pixel image with 1 colour depth. \n",
        "* Now pass in all the data as a single list -- 60000 images -- which means the input tensor is (60000 x 28 x 28 x 1) items in a list. \n"
      ],
      "metadata": {
        "id": "yDiz5nFO8R4z"
      }
    },
    {
      "cell_type": "code",
      "source": [
        "training_images = training_images.reshape(60000, 28, 28, 1)\n",
        "training_images = training_images / 255.0\n",
        "test_images = test_images.reshape(10000, 28, 28, 1)\n",
        "test_images = test_images/255.0"
      ],
      "metadata": {
        "id": "rahSMd4S9RrL"
      },
      "execution_count": 23,
      "outputs": []
    },
    {
      "cell_type": "markdown",
      "source": [
        "## Building the model \n",
        "\n",
        "* Use **sequential** to create the sequence of layers in a model. This model has 7 layers with the first 4 being a mix of convolution and pooling. \n",
        "* Use **Conv2d** to specify a convolutional layer and assign *64 conbolutions* of size (3 x 3). \n",
        "* Use **relu** (Rectified Linear Unit -- ReLU) activation function which converts any negative value to zero and define the input shape to be (28 x 28) pixels with 1 colour depth. \n",
        "\n",
        "   Relu函数：修正线性单元，$$ f(z) = max(0,z) $$ \n",
        "   \n",
        "* In the second layer use **MaxPooling** to define a pooling layer which compresses the image while maintaining features. By specifying a size (2 x 2), to effectively quartering the size of the images. \n",
        "\n",
        "    池化层夹在连续的卷积层中间， 用于压缩数据和参数的量，减小过拟合。简而言之，如果输入是图像的话，那么池化层的最主要作用就是压缩图像，得到的是概要统计特征。\n",
        "    Max_pooling: 整个图片被不重叠的分割成若干个大小相同的块(pooling size), 每个小块内只取最大的数字，舍弃其他节点后，保持原有的平面结构输出output\n",
        "1. 特征 invariance(不变性) -- 包括 translation, rotation, scale -- 只是图像的resize\n",
        "2. 特征降维 -- 保留主要特征的同时降低维度(类似于 PCA), 作用是防止过拟合，提高模型泛化能力\n",
        "* repea the sampe pattern again for layers 3 & 4. \n",
        "* The remaining layers are the same as previous model architecture\n",
        "\n",
        "  Layer 5 -- *Flatten* -- takes the previous layer and turns it into a 1 dimensional set. \n",
        "  \n",
        "  Layer 6 -- *Dense* -- has 128 neurons and also uses 'relu'.\n",
        "\n",
        "  Layer 7 -- *Dense* -- has 10 neurons which relate to 10 MNIST categories. use 'softmax' activation function which looks at all the probabilitis in that layer of neurons and sets the highest value to 1 and all other value to 0. "
      ],
      "metadata": {
        "id": "nbqIJ9TK7TCq"
      }
    },
    {
      "cell_type": "code",
      "source": [
        "model = tf.keras.models.Sequential([\n",
        "  tf.keras.layers.Conv2D(64, (3,3), activation='relu', input_shape=(28, 28, 1)),\n",
        "  tf.keras.layers.MaxPooling2D(2, 2),\n",
        "  tf.keras.layers.Conv2D(64, (3,3), activation='relu'),\n",
        "  tf.keras.layers.MaxPooling2D(2,2),\n",
        "  tf.keras.layers.Flatten(),\n",
        "  tf.keras.layers.Dense(128, activation='relu'),\n",
        "  tf.keras.layers.Dense(10, activation='softmax')\n",
        "])\n",
        "model.summary()"
      ],
      "metadata": {
        "colab": {
          "base_uri": "https://localhost:8080/"
        },
        "id": "VZ3HfNKZ_IsU",
        "outputId": "ee4fd535-4aee-46a6-ae50-9bd711b25bd5"
      },
      "execution_count": 24,
      "outputs": [
        {
          "output_type": "stream",
          "name": "stdout",
          "text": [
            "Model: \"sequential_3\"\n",
            "_________________________________________________________________\n",
            " Layer (type)                Output Shape              Param #   \n",
            "=================================================================\n",
            " conv2d_6 (Conv2D)           (None, 26, 26, 64)        640       \n",
            "                                                                 \n",
            " max_pooling2d_6 (MaxPooling  (None, 13, 13, 64)       0         \n",
            " 2D)                                                             \n",
            "                                                                 \n",
            " conv2d_7 (Conv2D)           (None, 11, 11, 64)        36928     \n",
            "                                                                 \n",
            " max_pooling2d_7 (MaxPooling  (None, 5, 5, 64)         0         \n",
            " 2D)                                                             \n",
            "                                                                 \n",
            " flatten_3 (Flatten)         (None, 1600)              0         \n",
            "                                                                 \n",
            " dense_6 (Dense)             (None, 128)               204928    \n",
            "                                                                 \n",
            " dense_7 (Dense)             (None, 10)                1290      \n",
            "                                                                 \n",
            "=================================================================\n",
            "Total params: 243,786\n",
            "Trainable params: 243,786\n",
            "Non-trainable params: 0\n",
            "_________________________________________________________________\n"
          ]
        }
      ]
    },
    {
      "cell_type": "markdown",
      "source": [
        "**model.fit** -- built the model by compiling with an optimizer and loss function and then train it to fit the training data to the training labels.\n",
        "\n",
        "The accuracy value at the end of the final epoch is 0.9953 -- 99% accuracy. "
      ],
      "metadata": {
        "id": "Af6nrP9aEwb2"
      }
    },
    {
      "cell_type": "code",
      "source": [
        "model.compile(optimizer = tf.keras.optimizers.Adam(),\n",
        "              loss = 'sparse_categorical_crossentropy',\n",
        "              metrics=['accuracy'])\n",
        "\n",
        "model.fit(training_images, training_labels, epochs=5)"
      ],
      "metadata": {
        "colab": {
          "base_uri": "https://localhost:8080/"
        },
        "id": "1ku01iqEFhtt",
        "outputId": "525b3095-759c-4c8b-96aa-0ab130848aca"
      },
      "execution_count": 25,
      "outputs": [
        {
          "output_type": "stream",
          "name": "stdout",
          "text": [
            "Epoch 1/5\n",
            "1875/1875 [==============================] - 78s 41ms/step - loss: 0.1251 - accuracy: 0.9616\n",
            "Epoch 2/5\n",
            "1875/1875 [==============================] - 77s 41ms/step - loss: 0.0409 - accuracy: 0.9875\n",
            "Epoch 3/5\n",
            "1875/1875 [==============================] - 76s 41ms/step - loss: 0.0275 - accuracy: 0.9913\n",
            "Epoch 4/5\n",
            "1875/1875 [==============================] - 76s 41ms/step - loss: 0.0202 - accuracy: 0.9934\n",
            "Epoch 5/5\n",
            "1875/1875 [==============================] - 76s 40ms/step - loss: 0.0147 - accuracy: 0.9953\n"
          ]
        },
        {
          "output_type": "execute_result",
          "data": {
            "text/plain": [
              "<keras.callbacks.History at 0x7fbe5f633d90>"
            ]
          },
          "metadata": {},
          "execution_count": 25
        }
      ]
    },
    {
      "cell_type": "markdown",
      "source": [
        "**model.evluate** -- report back the loss for each. "
      ],
      "metadata": {
        "id": "T6DB9xtPF91S"
      }
    },
    {
      "cell_type": "code",
      "source": [
        "model.evaluate(test_images, test_labels)"
      ],
      "metadata": {
        "colab": {
          "base_uri": "https://localhost:8080/"
        },
        "id": "MzKuOoEVGLHZ",
        "outputId": "0325623f-7108-469a-fa6d-4c71fe369bad"
      },
      "execution_count": 26,
      "outputs": [
        {
          "output_type": "stream",
          "name": "stdout",
          "text": [
            "313/313 [==============================] - 4s 12ms/step - loss: 0.0338 - accuracy: 0.9909\n"
          ]
        },
        {
          "output_type": "execute_result",
          "data": {
            "text/plain": [
              "[0.033781908452510834, 0.9908999800682068]"
            ]
          },
          "metadata": {},
          "execution_count": 26
        }
      ]
    },
    {
      "cell_type": "markdown",
      "source": [
        "## Extras \n",
        "**TensorBoard** -- find out where erroe or misclassifications are coming from, it provides a useful tool to check the model result and visualisations. \n"
      ],
      "metadata": {
        "id": "wDL3zCxSGLib"
      }
    },
    {
      "cell_type": "code",
      "source": [
        "import numpy as np\n",
        "test_predictions = np.argmax(model.predict(test_images), axis=-1)\n",
        "#test_predictions = model.predict_classes(test_images) - TF 2.6 弃用\n",
        "result = tf.math.confusion_matrix(test_labels, test_predictions)\n",
        "print(result)"
      ],
      "metadata": {
        "colab": {
          "base_uri": "https://localhost:8080/"
        },
        "id": "bJZlMtYDLHUK",
        "outputId": "536d46cc-8164-4e57-abb6-6c4d02ae9e35"
      },
      "execution_count": 27,
      "outputs": [
        {
          "output_type": "stream",
          "name": "stdout",
          "text": [
            "tf.Tensor(\n",
            "[[ 973    0    1    0    0    0    1    4    1    0]\n",
            " [   0 1127    4    0    1    1    0    2    0    0]\n",
            " [   0    0 1026    0    0    0    0    5    1    0]\n",
            " [   0    0    1 1004    0    2    0    3    0    0]\n",
            " [   0    0    1    0  973    0    0    0    1    7]\n",
            " [   0    0    1    6    0  883    1    1    0    0]\n",
            " [   2    3    1    0    2    9  940    0    1    0]\n",
            " [   0    0    2    0    0    0    0 1026    0    0]\n",
            " [   1    0    4    1    0    2    0    2  962    2]\n",
            " [   2    0    0    0    4    2    0    5    1  995]], shape=(10, 10), dtype=int32)\n"
          ]
        }
      ]
    },
    {
      "cell_type": "code",
      "source": [
        ""
      ],
      "metadata": {
        "id": "r4U_Z2nkNHyf"
      },
      "execution_count": 28,
      "outputs": []
    }
  ]
}
