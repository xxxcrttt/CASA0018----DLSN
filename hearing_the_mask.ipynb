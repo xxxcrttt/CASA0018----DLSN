{
  "nbformat": 4,
  "nbformat_minor": 0,
  "metadata": {
    "colab": {
      "name": "hearing the mask.ipynb",
      "provenance": [],
      "collapsed_sections": [],
      "authorship_tag": "ABX9TyNH9H0ZR0e7QZ6FAPchgXh/",
      "include_colab_link": true
    },
    "kernelspec": {
      "name": "python3",
      "display_name": "Python 3"
    },
    "language_info": {
      "name": "python"
    }
  },
  "cells": [
    {
      "cell_type": "markdown",
      "metadata": {
        "id": "view-in-github",
        "colab_type": "text"
      },
      "source": [
        "<a href=\"https://colab.research.google.com/github/xxxcrttt/CASA0018----DLSN/blob/main/hearing_the_mask.ipynb\" target=\"_parent\"><img src=\"https://colab.research.google.com/assets/colab-badge.svg\" alt=\"Open In Colab\"/></a>"
      ]
    },
    {
      "cell_type": "code",
      "execution_count": null,
      "metadata": {
        "id": "KU03lTCOOzPC"
      },
      "outputs": [],
      "source": [
        "import numpy as np\n",
        "import requests\n",
        "\n",
        "API_KEY = 'ei_49d2e0a251085174300977b8b05aa9425c4f2ed3f22bfdee77e08d293aeb3c4c'\n",
        "\n",
        "def download_data(url):\n",
        "    response = requests.get(url, headers={'x-api-key': API_KEY})\n",
        "    if response.status_code == 200:\n",
        "        return response.content\n",
        "    else:\n",
        "        print(response.content)\n",
        "        raise ConnectionError('Could not download data file')\n",
        "\n",
        "X = download_data('https://studio.edgeimpulse.com/v1/api/88274/training/5/x')\n",
        "Y = download_data('https://studio.edgeimpulse.com/v1/api/88274/training/5/y')"
      ]
    },
    {
      "cell_type": "code",
      "source": [
        "with open('x_train.npy', 'wb') as file:\n",
        "    file.write(X)\n",
        "with open('y_train.npy', 'wb') as file:\n",
        "    file.write(Y)\n",
        "X = np.load('x_train.npy')\n",
        "Y = np.load('y_train.npy')[:,0]"
      ],
      "metadata": {
        "id": "l8KEDd5OPV2N"
      },
      "execution_count": null,
      "outputs": []
    },
    {
      "cell_type": "code",
      "source": [
        "import sys, os, random\n",
        "import tensorflow as tf\n",
        "from sklearn.model_selection import train_test_split\n",
        "\n",
        "import logging\n",
        "tf.get_logger().setLevel(logging.ERROR)\n",
        "os.environ['TF_CPP_MIN_LOG_LEVEL'] = '2'\n",
        "\n",
        "# Set random seeds for repeatable results\n",
        "RANDOM_SEED = 3\n",
        "random.seed(RANDOM_SEED)\n",
        "np.random.seed(RANDOM_SEED)\n",
        "tf.random.set_seed(RANDOM_SEED)\n",
        "\n",
        "classes_values = [ \"noise\", \"nomask\", \"withmask\" ]\n",
        "classes = len(classes_values)\n",
        "\n",
        "Y = tf.keras.utils.to_categorical(Y - 1, classes)\n",
        "\n",
        "X_train, X_test, Y_train, Y_test = train_test_split(X, Y, test_size=0.2, random_state=1)\n",
        "\n",
        "input_length = X_train[0].shape[0]\n",
        "\n",
        "train_dataset = tf.data.Dataset.from_tensor_slices((X_train, Y_train))\n",
        "validation_dataset = tf.data.Dataset.from_tensor_slices((X_test, Y_test))\n",
        "\n",
        "def get_reshape_function(reshape_to):\n",
        "    def reshape(image, label):\n",
        "        return tf.reshape(image, reshape_to), label\n",
        "    return reshape\n",
        "\n",
        "callbacks = []\n"
      ],
      "metadata": {
        "id": "MJvEbRiWPY2Y"
      },
      "execution_count": null,
      "outputs": []
    },
    {
      "cell_type": "code",
      "source": [
        "import tensorflow as tf\n",
        "from tensorflow.keras.models import Sequential\n",
        "from tensorflow.keras.layers import Dense, InputLayer, Dropout, Conv1D, Conv2D, Flatten, Reshape, MaxPooling1D, MaxPooling2D, BatchNormalization, TimeDistributed\n",
        "from tensorflow.keras.optimizers import Adam, SGD, RMSprop\n",
        "\n",
        "# model architecture\n",
        "model = Sequential()\n",
        "model.add(Reshape((int(input_length / 13), 13), input_shape=(input_length, )))\n",
        "model.add(Conv1D(16, kernel_size=3, activation='relu', padding='same'))\n",
        "model.add(MaxPooling1D(pool_size=2, strides=2, padding='same'))\n",
        "model.add(Dropout(0.25))\n",
        "model.add(Conv1D(16, kernel_size=3, activation='relu', padding='same'))\n",
        "model.add(MaxPooling1D(pool_size=2, strides=2, padding='same'))\n",
        "model.add(Dropout(0.25))\n",
        "model.add(Flatten())\n",
        "model.add(Dense(classes, activation='softmax', name='y_pred'))\n",
        "\n",
        "# this controls the learning rate\n",
        "opt = Adam(learning_rate=0.005, beta_1=0.9, beta_2=0.999)\n",
        "#opt = SGD(learning_rate=0.005)\n",
        "#opt = RMSprop(learning_rate=0.005)\n",
        "\n",
        "# this controls the batch size, or you can manipulate the tf.data.Dataset objects yourself\n",
        "BATCH_SIZE = 32\n",
        "train_dataset = train_dataset.batch(BATCH_SIZE, drop_remainder=False)\n",
        "validation_dataset = validation_dataset.batch(BATCH_SIZE, drop_remainder=False)\n",
        "\n",
        "# train the neural network\n",
        "model.compile(loss='categorical_crossentropy', optimizer=opt, metrics=['accuracy'])\n",
        "history = model.fit(train_dataset, epochs=50, validation_data=validation_dataset, verbose=2, callbacks=callbacks)\n",
        "\n",
        "# Use this flag to disable per-channel quantization for a model.\n",
        "# This can reduce RAM usage for convolutional models, but may have\n",
        "# an impact on accuracy.\n",
        "disable_per_channel_quantization = False\n"
      ],
      "metadata": {
        "colab": {
          "base_uri": "https://localhost:8080/"
        },
        "id": "6F4McjiWPj1y",
        "outputId": "6ed6e509-f981-46b4-e2a9-cd67be29e159"
      },
      "execution_count": null,
      "outputs": [
        {
          "output_type": "stream",
          "name": "stdout",
          "text": [
            "Epoch 1/50\n",
            "30/30 - 1s - loss: 1.0785 - accuracy: 0.4989 - val_loss: 0.8087 - val_accuracy: 0.5805 - 968ms/epoch - 32ms/step\n",
            "Epoch 2/50\n",
            "30/30 - 0s - loss: 0.7422 - accuracy: 0.6649 - val_loss: 0.5497 - val_accuracy: 0.7669 - 120ms/epoch - 4ms/step\n",
            "Epoch 3/50\n",
            "30/30 - 0s - loss: 0.5627 - accuracy: 0.7489 - val_loss: 0.4587 - val_accuracy: 0.7966 - 126ms/epoch - 4ms/step\n",
            "Epoch 4/50\n",
            "30/30 - 0s - loss: 0.4558 - accuracy: 0.8117 - val_loss: 0.3455 - val_accuracy: 0.8686 - 122ms/epoch - 4ms/step\n",
            "Epoch 5/50\n",
            "30/30 - 0s - loss: 0.3767 - accuracy: 0.8457 - val_loss: 0.3200 - val_accuracy: 0.8771 - 128ms/epoch - 4ms/step\n",
            "Epoch 6/50\n",
            "30/30 - 0s - loss: 0.3295 - accuracy: 0.8660 - val_loss: 0.4583 - val_accuracy: 0.8093 - 132ms/epoch - 4ms/step\n",
            "Epoch 7/50\n",
            "30/30 - 0s - loss: 0.3129 - accuracy: 0.8670 - val_loss: 0.2327 - val_accuracy: 0.9280 - 128ms/epoch - 4ms/step\n",
            "Epoch 8/50\n",
            "30/30 - 0s - loss: 0.3101 - accuracy: 0.8500 - val_loss: 0.2067 - val_accuracy: 0.9068 - 119ms/epoch - 4ms/step\n",
            "Epoch 9/50\n",
            "30/30 - 0s - loss: 0.2427 - accuracy: 0.8957 - val_loss: 0.2100 - val_accuracy: 0.9153 - 122ms/epoch - 4ms/step\n",
            "Epoch 10/50\n",
            "30/30 - 0s - loss: 0.2425 - accuracy: 0.9021 - val_loss: 0.2544 - val_accuracy: 0.8898 - 130ms/epoch - 4ms/step\n",
            "Epoch 11/50\n",
            "30/30 - 0s - loss: 0.2206 - accuracy: 0.9181 - val_loss: 0.2021 - val_accuracy: 0.9153 - 116ms/epoch - 4ms/step\n",
            "Epoch 12/50\n",
            "30/30 - 0s - loss: 0.1911 - accuracy: 0.9245 - val_loss: 0.3039 - val_accuracy: 0.8729 - 121ms/epoch - 4ms/step\n",
            "Epoch 13/50\n",
            "30/30 - 0s - loss: 0.1863 - accuracy: 0.9351 - val_loss: 0.3253 - val_accuracy: 0.8729 - 122ms/epoch - 4ms/step\n",
            "Epoch 14/50\n",
            "30/30 - 0s - loss: 0.1873 - accuracy: 0.9223 - val_loss: 0.1664 - val_accuracy: 0.9195 - 140ms/epoch - 5ms/step\n",
            "Epoch 15/50\n",
            "30/30 - 0s - loss: 0.1507 - accuracy: 0.9383 - val_loss: 0.1515 - val_accuracy: 0.9407 - 124ms/epoch - 4ms/step\n",
            "Epoch 16/50\n",
            "30/30 - 0s - loss: 0.1461 - accuracy: 0.9426 - val_loss: 0.1710 - val_accuracy: 0.9364 - 118ms/epoch - 4ms/step\n",
            "Epoch 17/50\n",
            "30/30 - 0s - loss: 0.1596 - accuracy: 0.9372 - val_loss: 0.2089 - val_accuracy: 0.9153 - 123ms/epoch - 4ms/step\n",
            "Epoch 18/50\n",
            "30/30 - 0s - loss: 0.1394 - accuracy: 0.9511 - val_loss: 0.1451 - val_accuracy: 0.9364 - 119ms/epoch - 4ms/step\n",
            "Epoch 19/50\n",
            "30/30 - 0s - loss: 0.1504 - accuracy: 0.9468 - val_loss: 0.1373 - val_accuracy: 0.9449 - 122ms/epoch - 4ms/step\n",
            "Epoch 20/50\n",
            "30/30 - 0s - loss: 0.1459 - accuracy: 0.9362 - val_loss: 0.1088 - val_accuracy: 0.9703 - 131ms/epoch - 4ms/step\n",
            "Epoch 21/50\n",
            "30/30 - 0s - loss: 0.1366 - accuracy: 0.9436 - val_loss: 0.1879 - val_accuracy: 0.9280 - 117ms/epoch - 4ms/step\n",
            "Epoch 22/50\n",
            "30/30 - 0s - loss: 0.1367 - accuracy: 0.9436 - val_loss: 0.1608 - val_accuracy: 0.9407 - 130ms/epoch - 4ms/step\n",
            "Epoch 23/50\n",
            "30/30 - 0s - loss: 0.1316 - accuracy: 0.9553 - val_loss: 0.1243 - val_accuracy: 0.9492 - 120ms/epoch - 4ms/step\n",
            "Epoch 24/50\n",
            "30/30 - 0s - loss: 0.1166 - accuracy: 0.9511 - val_loss: 0.1579 - val_accuracy: 0.9407 - 120ms/epoch - 4ms/step\n",
            "Epoch 25/50\n",
            "30/30 - 0s - loss: 0.1122 - accuracy: 0.9574 - val_loss: 0.1173 - val_accuracy: 0.9534 - 127ms/epoch - 4ms/step\n",
            "Epoch 26/50\n",
            "30/30 - 0s - loss: 0.1125 - accuracy: 0.9574 - val_loss: 0.1237 - val_accuracy: 0.9407 - 132ms/epoch - 4ms/step\n",
            "Epoch 27/50\n",
            "30/30 - 0s - loss: 0.1145 - accuracy: 0.9617 - val_loss: 0.1595 - val_accuracy: 0.9407 - 115ms/epoch - 4ms/step\n",
            "Epoch 28/50\n",
            "30/30 - 0s - loss: 0.1087 - accuracy: 0.9521 - val_loss: 0.0855 - val_accuracy: 0.9746 - 118ms/epoch - 4ms/step\n",
            "Epoch 29/50\n",
            "30/30 - 0s - loss: 0.1179 - accuracy: 0.9489 - val_loss: 0.1143 - val_accuracy: 0.9703 - 114ms/epoch - 4ms/step\n",
            "Epoch 30/50\n",
            "30/30 - 0s - loss: 0.1267 - accuracy: 0.9479 - val_loss: 0.1226 - val_accuracy: 0.9534 - 124ms/epoch - 4ms/step\n",
            "Epoch 31/50\n",
            "30/30 - 0s - loss: 0.1034 - accuracy: 0.9574 - val_loss: 0.1117 - val_accuracy: 0.9576 - 118ms/epoch - 4ms/step\n",
            "Epoch 32/50\n",
            "30/30 - 0s - loss: 0.1035 - accuracy: 0.9574 - val_loss: 0.1333 - val_accuracy: 0.9364 - 118ms/epoch - 4ms/step\n",
            "Epoch 33/50\n",
            "30/30 - 0s - loss: 0.0947 - accuracy: 0.9649 - val_loss: 0.1010 - val_accuracy: 0.9661 - 127ms/epoch - 4ms/step\n",
            "Epoch 34/50\n",
            "30/30 - 0s - loss: 0.0782 - accuracy: 0.9734 - val_loss: 0.1118 - val_accuracy: 0.9661 - 115ms/epoch - 4ms/step\n",
            "Epoch 35/50\n",
            "30/30 - 0s - loss: 0.0953 - accuracy: 0.9681 - val_loss: 0.0858 - val_accuracy: 0.9703 - 129ms/epoch - 4ms/step\n",
            "Epoch 36/50\n",
            "30/30 - 0s - loss: 0.0855 - accuracy: 0.9723 - val_loss: 0.0998 - val_accuracy: 0.9619 - 116ms/epoch - 4ms/step\n",
            "Epoch 37/50\n",
            "30/30 - 0s - loss: 0.1032 - accuracy: 0.9638 - val_loss: 0.0883 - val_accuracy: 0.9619 - 124ms/epoch - 4ms/step\n",
            "Epoch 38/50\n",
            "30/30 - 0s - loss: 0.0722 - accuracy: 0.9713 - val_loss: 0.0852 - val_accuracy: 0.9661 - 133ms/epoch - 4ms/step\n",
            "Epoch 39/50\n",
            "30/30 - 0s - loss: 0.0972 - accuracy: 0.9574 - val_loss: 0.1088 - val_accuracy: 0.9661 - 130ms/epoch - 4ms/step\n",
            "Epoch 40/50\n",
            "30/30 - 0s - loss: 0.0607 - accuracy: 0.9734 - val_loss: 0.1400 - val_accuracy: 0.9619 - 119ms/epoch - 4ms/step\n",
            "Epoch 41/50\n",
            "30/30 - 0s - loss: 0.1165 - accuracy: 0.9638 - val_loss: 0.0951 - val_accuracy: 0.9661 - 120ms/epoch - 4ms/step\n",
            "Epoch 42/50\n",
            "30/30 - 0s - loss: 0.0897 - accuracy: 0.9670 - val_loss: 0.1008 - val_accuracy: 0.9661 - 135ms/epoch - 5ms/step\n",
            "Epoch 43/50\n",
            "30/30 - 0s - loss: 0.0827 - accuracy: 0.9681 - val_loss: 0.0899 - val_accuracy: 0.9576 - 127ms/epoch - 4ms/step\n",
            "Epoch 44/50\n",
            "30/30 - 0s - loss: 0.0945 - accuracy: 0.9617 - val_loss: 0.0787 - val_accuracy: 0.9746 - 117ms/epoch - 4ms/step\n",
            "Epoch 45/50\n",
            "30/30 - 0s - loss: 0.0696 - accuracy: 0.9713 - val_loss: 0.1144 - val_accuracy: 0.9534 - 126ms/epoch - 4ms/step\n",
            "Epoch 46/50\n",
            "30/30 - 0s - loss: 0.0750 - accuracy: 0.9691 - val_loss: 0.0965 - val_accuracy: 0.9703 - 115ms/epoch - 4ms/step\n",
            "Epoch 47/50\n",
            "30/30 - 0s - loss: 0.0881 - accuracy: 0.9638 - val_loss: 0.1157 - val_accuracy: 0.9576 - 127ms/epoch - 4ms/step\n",
            "Epoch 48/50\n",
            "30/30 - 0s - loss: 0.1028 - accuracy: 0.9564 - val_loss: 0.1315 - val_accuracy: 0.9576 - 129ms/epoch - 4ms/step\n",
            "Epoch 49/50\n",
            "30/30 - 0s - loss: 0.0641 - accuracy: 0.9766 - val_loss: 0.1022 - val_accuracy: 0.9534 - 125ms/epoch - 4ms/step\n",
            "Epoch 50/50\n",
            "30/30 - 0s - loss: 0.0542 - accuracy: 0.9809 - val_loss: 0.1513 - val_accuracy: 0.9449 - 124ms/epoch - 4ms/step\n"
          ]
        }
      ]
    },
    {
      "cell_type": "code",
      "source": [
        "%matplotlib inline \n",
        "\n",
        "# import matplotlib libaray\n",
        "import matplotlib.pyplot as plt\n",
        "\n",
        "accuracy = history.history['accuracy']\n",
        "val_accuracy = history.history['val_accuracy']\n",
        "loss = history.history['loss']\n",
        "val_loss = history.history['val_loss']\n",
        "\n",
        "epochs = range(len(accuracy)) # get number of the epochs\n",
        "\n",
        "# --- plot the training and validation accuracy per epoch ----\n",
        "plt.plot(epochs, accuracy, 'r', label='Training Accuracy')\n",
        "plt.plot(epochs, val_accuracy,'b', label='Validation Accuracy')\n",
        "plt.title('Training and Validation Accuracy')\n",
        "plt.legend(loc=0)\n",
        "plt.figure()\n",
        "\n",
        "\n",
        "# --- plot the training and validation loss per epoch ---\n",
        "plt.plot(epochs, loss, 'r', label='Training loss')\n",
        "plt.plot(epochs, val_loss, 'b', label='Validation Loss')\n",
        "plt.title('Training and validation loss')\n",
        "plt.legend(loc=0)\n",
        "plt.figure()\n",
        "\n",
        "plt.show()"
      ],
      "metadata": {
        "colab": {
          "base_uri": "https://localhost:8080/",
          "height": 563
        },
        "id": "FS_Pk_UMQvoI",
        "outputId": "4033215a-ed96-476e-b21c-a4e0e54510b2"
      },
      "execution_count": null,
      "outputs": [
        {
          "output_type": "display_data",
          "data": {
            "text/plain": [
              "<Figure size 432x288 with 1 Axes>"
            ],
            "image/png": "[encoded data removed]"
          },
          "metadata": {
            "needs_background": "light"
          }
        },
        {
          "output_type": "display_data",
          "data": {
            "text/plain": [
              "<Figure size 432x288 with 1 Axes>"
            ],
            "image/png": "[encoded data removed]"
          },
          "metadata": {
            "needs_background": "light"
          }
        },
        {
          "output_type": "display_data",
          "data": {
            "text/plain": [
              "<Figure size 432x288 with 0 Axes>"
            ]
          },
          "metadata": {}
        }
      ]
    },
    {
      "cell_type": "code",
      "source": [
        "\n",
        "\n",
        "\n"
      ],
      "metadata": {
        "id": "WICHVAdJQ5Jb"
      },
      "execution_count": null,
      "outputs": []
    }
  ]
}